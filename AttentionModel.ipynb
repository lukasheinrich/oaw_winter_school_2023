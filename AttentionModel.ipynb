{
 "cells": [
  {
   "cell_type": "code",
   "execution_count": 1,
   "id": "15d2aea0",
   "metadata": {},
   "outputs": [],
   "source": [
    "import torch\n",
    "import numpy as np\n",
    "import matplotlib.pyplot as plt"
   ]
  },
  {
   "cell_type": "code",
   "execution_count": 2,
   "id": "c6dd284d",
   "metadata": {},
   "outputs": [],
   "source": [
    "def get_data(N):\n",
    "    data = np.random.randint(0,9, size = (N,10))\n",
    "    d = data[0]\n",
    "    X = torch.FloatTensor(data)\n",
    "    y = torch.FloatTensor([len(d[d==2]) > len(d[d==4]) for d in data])\n",
    "    return X.long(), y.reshape(-1,1)"
   ]
  },
  {
   "cell_type": "code",
   "execution_count": 48,
   "id": "740542b9",
   "metadata": {},
   "outputs": [],
   "source": [
    "class AttentionModel(torch.nn.Module):\n",
    "    def __init__(self):\n",
    "        super().__init__()\n",
    "        \n",
    "        self.embed = torch.nn.Embedding(10, embedding_dim=5)\n",
    "        self.query = torch.nn.Parameter(torch.randn(1,12))\n",
    "\n",
    "        self.make_keys = torch.nn.Linear(5,12)\n",
    "        self.make_values = torch.nn.Linear(5,1)\n",
    "\n",
    "        self.final_net = torch.nn.Sequential(\n",
    "            torch.nn.Linear(1,10),\n",
    "            torch.nn.ReLU(),\n",
    "            torch.nn.Linear(10,1),\n",
    "            torch.nn.Sigmoid()\n",
    "        )\n",
    "    \n",
    "    def attention(self, embedded):\n",
    "        keys = self.make_keys(embedded)\n",
    "        query = self.query\n",
    "        \n",
    "        qk = torch.einsum('ie,bje->bij', query, keys)\n",
    "        qknorm = qk/torch.sqrt(torch.FloatTensor([12]))\n",
    "\n",
    "        att = torch.nn.functional.softmax(qknorm, dim = -1)\n",
    "        return att\n",
    "\n",
    "    def values(self, embedded):\n",
    "        vals = self.make_values(embedded)        \n",
    "        return vals\n",
    "    \n",
    "    def forward(self, X):\n",
    "        embedded = self.embed(X)\n",
    "        att = self.attention(embedded)\n",
    "        vals = self.values(embedded)\n",
    "\n",
    "        global_response = torch.einsum('bij,bje->bie', att, vals)\n",
    "        global_response = global_response[:,0,:]\n",
    "        \n",
    "        return self.final_net(global_response)\n",
    "        "
   ]
  },
  {
   "cell_type": "code",
   "execution_count": 9,
   "id": "be4f8087",
   "metadata": {},
   "outputs": [
    {
     "name": "stdout",
     "output_type": "stream",
     "text": [
      "0.7685934901237488\n",
      "0.6128870844841003\n",
      "0.03646061196923256\n",
      "0.05500254034996033\n",
      "0.005053679458796978\n",
      "0.004941304214298725\n",
      "0.001919630914926529\n",
      "0.0011450228048488498\n",
      "0.0010228360770270228\n",
      "0.0005009853630326688\n"
     ]
    }
   ],
   "source": [
    "def train():\n",
    "    model = AttentionModel()\n",
    "    opt = torch.optim.Adam(model.parameters(), lr = 3e-4)\n",
    "    traj = []\n",
    "    for i in range(10000):\n",
    "        X,y = get_data(10)\n",
    "        pred = model(X)\n",
    "        loss = torch.nn.functional.binary_cross_entropy(pred,y)\n",
    "        loss.backward()\n",
    "        traj.append(float(loss))\n",
    "        if i % 1000 == 0:\n",
    "            print(float(loss))\n",
    "        opt.step()\n",
    "        opt.zero_grad()\n",
    "    return model, np.array(traj)\n",
    "        \n",
    "tm, traj = train()"
   ]
  },
  {
   "cell_type": "code",
   "execution_count": 10,
   "id": "7be3e138",
   "metadata": {},
   "outputs": [
    {
     "data": {
      "text/plain": [
       "[<matplotlib.lines.Line2D at 0x124497ca0>]"
      ]
     },
     "execution_count": 10,
     "metadata": {},
     "output_type": "execute_result"
    },
    {
     "data": {
      "image/png": "[encoded data removed]",
      "text/plain": [
       "<Figure size 432x288 with 1 Axes>"
      ]
     },
     "metadata": {
      "needs_background": "light"
     },
     "output_type": "display_data"
    }
   ],
   "source": [
    "plt.plot(traj)"
   ]
  },
  {
   "cell_type": "code",
   "execution_count": 42,
   "id": "7e969b86",
   "metadata": {},
   "outputs": [],
   "source": [
    "X = torch.LongTensor([\n",
    "    [4,2,5,3,8,0,7,3,1,4],\n",
    "    [3,1,4,1,5,9,2,6,5,3],\n",
    "    [1,9,2,2,2,2,4,4,3,1],\n",
    "])"
   ]
  },
  {
   "cell_type": "code",
   "execution_count": 43,
   "id": "a325860b",
   "metadata": {},
   "outputs": [
    {
     "data": {
      "text/plain": [
       "<matplotlib.image.AxesImage at 0x173abc670>"
      ]
     },
     "execution_count": 43,
     "metadata": {},
     "output_type": "execute_result"
    },
    {
     "data": {
      "image/png": "[encoded data removed]",
      "text/plain": [
       "<Figure size 432x288 with 1 Axes>"
      ]
     },
     "metadata": {
      "needs_background": "light"
     },
     "output_type": "display_data"
    }
   ],
   "source": [
    "att = tm.attention(tm.embed(X))[:,0,:].detach()\n",
    "plt.imshow(att)"
   ]
  },
  {
   "cell_type": "code",
   "execution_count": 46,
   "id": "f613a545",
   "metadata": {},
   "outputs": [
    {
     "data": {
      "text/plain": [
       "<matplotlib.image.AxesImage at 0x173bd3550>"
      ]
     },
     "execution_count": 46,
     "metadata": {},
     "output_type": "execute_result"
    },
    {
     "data": {
      "image/png": "[encoded data removed]",
      "text/plain": [
       "<Figure size 432x288 with 1 Axes>"
      ]
     },
     "metadata": {
      "needs_background": "light"
     },
     "output_type": "display_data"
    }
   ],
   "source": [
    "vals = tm.values(tm.embed(X))[:,:,0].detach()\n",
    "vals = torch.where(att < 0.05, torch.ones_like(vals)*torch.nan, vals)\n",
    "plt.imshow(vals)"
   ]
  },
  {
   "cell_type": "code",
   "execution_count": 47,
   "id": "696213d3",
   "metadata": {},
   "outputs": [
    {
     "data": {
      "text/plain": [
       "tensor([[2.7955e-07],\n",
       "        [5.4079e-04],\n",
       "        [9.9997e-01]], grad_fn=<SigmoidBackward0>)"
      ]
     },
     "execution_count": 47,
     "metadata": {},
     "output_type": "execute_result"
    }
   ],
   "source": [
    "tm(X)"
   ]
  },
  {
   "cell_type": "code",
   "execution_count": 49,
   "id": "5c99b01a",
   "metadata": {},
   "outputs": [],
   "source": [
    "!open ."
   ]
  },
  {
   "cell_type": "code",
   "execution_count": null,
   "id": "a01d803d",
   "metadata": {},
   "outputs": [],
   "source": []
  }
 ],
 "metadata": {
  "kernelspec": {
   "display_name": "Python 3 (ipykernel)",
   "language": "python",
   "name": "python3"
  },
  "language_info": {
   "codemirror_mode": {
    "name": "ipython",
    "version": 3
   },
   "file_extension": ".py",
   "mimetype": "text/x-python",
   "name": "python",
   "nbconvert_exporter": "python",
   "pygments_lexer": "ipython3",
   "version": "3.9.11"
  }
 },
 "nbformat": 4,
 "nbformat_minor": 5
}
